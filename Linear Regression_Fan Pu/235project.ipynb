{
 "cells": [
  {
   "cell_type": "code",
   "execution_count": 19,
   "metadata": {},
   "outputs": [],
   "source": [
    "import pandas as pd\n",
    "import csv\n",
    "import seaborn as sns\n",
    "import matplotlib.pyplot as plt\n",
    "import numpy as np\n",
    "from sklearn.model_selection import train_test_split\n",
    "import mpl_toolkits\n",
    "from sklearn import metrics\n",
    "from sklearn import linear_model\n",
    "from sklearn.linear_model import LinearRegression"
   ]
  },
  {
   "cell_type": "code",
   "execution_count": 20,
   "metadata": {
    "scrolled": true
   },
   "outputs": [
    {
     "data": {
      "text/html": [
       "<div>\n",
       "<style scoped>\n",
       "    .dataframe tbody tr th:only-of-type {\n",
       "        vertical-align: middle;\n",
       "    }\n",
       "\n",
       "    .dataframe tbody tr th {\n",
       "        vertical-align: top;\n",
       "    }\n",
       "\n",
       "    .dataframe thead th {\n",
       "        text-align: right;\n",
       "    }\n",
       "</style>\n",
       "<table border=\"1\" class=\"dataframe\">\n",
       "  <thead>\n",
       "    <tr style=\"text-align: right;\">\n",
       "      <th></th>\n",
       "      <th>business_id</th>\n",
       "      <th>name</th>\n",
       "      <th>stars</th>\n",
       "      <th>Alcohol</th>\n",
       "      <th>BikeParking</th>\n",
       "      <th>GoodForKids</th>\n",
       "      <th>HasTV</th>\n",
       "      <th>OutdoorSeating</th>\n",
       "      <th>RestaurantsReservations</th>\n",
       "      <th>WiFi</th>\n",
       "      <th>garage_parking</th>\n",
       "      <th>street_parking</th>\n",
       "      <th>lot_parking</th>\n",
       "    </tr>\n",
       "  </thead>\n",
       "  <tbody>\n",
       "    <tr>\n",
       "      <th>0</th>\n",
       "      <td>pQeaRpvuhoEqudo3uymHIQ</td>\n",
       "      <td>The Empanadas House</td>\n",
       "      <td>4.5</td>\n",
       "      <td>'none'</td>\n",
       "      <td>False</td>\n",
       "      <td>False</td>\n",
       "      <td>True</td>\n",
       "      <td>False</td>\n",
       "      <td>False</td>\n",
       "      <td>nan</td>\n",
       "      <td>nan</td>\n",
       "      <td>nan</td>\n",
       "      <td>nan</td>\n",
       "    </tr>\n",
       "    <tr>\n",
       "      <th>1</th>\n",
       "      <td>CsLQLiRoafpJPJSkNX2h5Q</td>\n",
       "      <td>Middle East Deli</td>\n",
       "      <td>3.0</td>\n",
       "      <td>nan</td>\n",
       "      <td>nan</td>\n",
       "      <td>True</td>\n",
       "      <td>nan</td>\n",
       "      <td>False</td>\n",
       "      <td>False</td>\n",
       "      <td>nan</td>\n",
       "      <td>False</td>\n",
       "      <td>False</td>\n",
       "      <td>False</td>\n",
       "    </tr>\n",
       "    <tr>\n",
       "      <th>2</th>\n",
       "      <td>eBEfgOPG7pvFhb2wcG9I7w</td>\n",
       "      <td>Philthy Phillys</td>\n",
       "      <td>4.5</td>\n",
       "      <td>u'none'</td>\n",
       "      <td>True</td>\n",
       "      <td>nan</td>\n",
       "      <td>True</td>\n",
       "      <td>False</td>\n",
       "      <td>False</td>\n",
       "      <td>u'no'</td>\n",
       "      <td>False</td>\n",
       "      <td>False</td>\n",
       "      <td>True</td>\n",
       "    </tr>\n",
       "  </tbody>\n",
       "</table>\n",
       "</div>"
      ],
      "text/plain": [
       "              business_id                 name stars  Alcohol BikeParking  \\\n",
       "0  pQeaRpvuhoEqudo3uymHIQ  The Empanadas House   4.5   'none'       False   \n",
       "1  CsLQLiRoafpJPJSkNX2h5Q     Middle East Deli   3.0      nan         nan   \n",
       "2  eBEfgOPG7pvFhb2wcG9I7w      Philthy Phillys   4.5  u'none'        True   \n",
       "\n",
       "  GoodForKids HasTV OutdoorSeating RestaurantsReservations   WiFi  \\\n",
       "0       False  True          False                   False    nan   \n",
       "1        True   nan          False                   False    nan   \n",
       "2         nan  True          False                   False  u'no'   \n",
       "\n",
       "  garage_parking street_parking lot_parking  \n",
       "0            nan            nan         nan  \n",
       "1          False          False       False  \n",
       "2          False          False        True  "
      ]
     },
     "execution_count": 20,
     "metadata": {},
     "output_type": "execute_result"
    }
   ],
   "source": [
    "df = pd.read_csv('business.csv')\n",
    "df=df.astype(str)\n",
    "df.drop(['state','categories'],axis=1,inplace=True)\n",
    "df.head(3)"
   ]
  },
  {
   "cell_type": "code",
   "execution_count": 21,
   "metadata": {
    "scrolled": false
   },
   "outputs": [
    {
     "data": {
      "text/plain": [
       "<function seaborn.utils.despine(fig=None, ax=None, top=True, right=True, left=False, bottom=False, offset=None, trim=False)>"
      ]
     },
     "execution_count": 21,
     "metadata": {},
     "output_type": "execute_result"
    },
    {
     "data": {
      "image/png": "[encoded data removed]",
      "text/plain": [
       "<Figure size 432x288 with 1 Axes>"
      ]
     },
     "metadata": {
      "needs_background": "light"
     },
     "output_type": "display_data"
    }
   ],
   "source": [
    "df['stars'].value_counts().plot(kind='bar')\n",
    "plt.title('number of stars')\n",
    "plt.xlabel('stars')\n",
    "plt.ylabel('Count')\n",
    "sns.despine"
   ]
  },
  {
   "cell_type": "code",
   "execution_count": 22,
   "metadata": {},
   "outputs": [],
   "source": [
    "df.loc[df['Alcohol'].str.contains('nan'), 'Alcohol'] = '0'\n",
    "df.loc[df['Alcohol'].str.contains('none'), 'Alcohol'] = '0'\n",
    "df.loc[df['Alcohol'].str.contains('None'), 'Alcohol'] = '0'\n",
    "df.loc[df['Alcohol'].str.contains('full_bar'), 'Alcohol'] = '1'\n",
    "df.loc[df['Alcohol'].str.contains('beer_and_wine'), 'Alcohol'] = '1'"
   ]
  },
  {
   "cell_type": "code",
   "execution_count": 23,
   "metadata": {
    "scrolled": false
   },
   "outputs": [
    {
     "data": {
      "text/html": [
       "<div>\n",
       "<style scoped>\n",
       "    .dataframe tbody tr th:only-of-type {\n",
       "        vertical-align: middle;\n",
       "    }\n",
       "\n",
       "    .dataframe tbody tr th {\n",
       "        vertical-align: top;\n",
       "    }\n",
       "\n",
       "    .dataframe thead th {\n",
       "        text-align: right;\n",
       "    }\n",
       "</style>\n",
       "<table border=\"1\" class=\"dataframe\">\n",
       "  <thead>\n",
       "    <tr style=\"text-align: right;\">\n",
       "      <th></th>\n",
       "      <th>business_id</th>\n",
       "      <th>name</th>\n",
       "      <th>stars</th>\n",
       "      <th>Alcohol</th>\n",
       "      <th>BikeParking</th>\n",
       "      <th>GoodForKids</th>\n",
       "      <th>HasTV</th>\n",
       "      <th>OutdoorSeating</th>\n",
       "      <th>RestaurantsReservations</th>\n",
       "      <th>WiFi</th>\n",
       "      <th>garage_parking</th>\n",
       "      <th>street_parking</th>\n",
       "      <th>lot_parking</th>\n",
       "    </tr>\n",
       "  </thead>\n",
       "  <tbody>\n",
       "    <tr>\n",
       "      <th>0</th>\n",
       "      <td>pQeaRpvuhoEqudo3uymHIQ</td>\n",
       "      <td>The Empanadas House</td>\n",
       "      <td>4.5</td>\n",
       "      <td>0</td>\n",
       "      <td>0</td>\n",
       "      <td>0</td>\n",
       "      <td>1</td>\n",
       "      <td>0</td>\n",
       "      <td>0</td>\n",
       "      <td>0</td>\n",
       "      <td>0</td>\n",
       "      <td>0</td>\n",
       "      <td>0</td>\n",
       "    </tr>\n",
       "    <tr>\n",
       "      <th>1</th>\n",
       "      <td>CsLQLiRoafpJPJSkNX2h5Q</td>\n",
       "      <td>Middle East Deli</td>\n",
       "      <td>3.0</td>\n",
       "      <td>0</td>\n",
       "      <td>0</td>\n",
       "      <td>1</td>\n",
       "      <td>0</td>\n",
       "      <td>0</td>\n",
       "      <td>0</td>\n",
       "      <td>0</td>\n",
       "      <td>0</td>\n",
       "      <td>0</td>\n",
       "      <td>0</td>\n",
       "    </tr>\n",
       "    <tr>\n",
       "      <th>2</th>\n",
       "      <td>eBEfgOPG7pvFhb2wcG9I7w</td>\n",
       "      <td>Philthy Phillys</td>\n",
       "      <td>4.5</td>\n",
       "      <td>0</td>\n",
       "      <td>1</td>\n",
       "      <td>0</td>\n",
       "      <td>1</td>\n",
       "      <td>0</td>\n",
       "      <td>0</td>\n",
       "      <td>0</td>\n",
       "      <td>0</td>\n",
       "      <td>0</td>\n",
       "      <td>1</td>\n",
       "    </tr>\n",
       "    <tr>\n",
       "      <th>3</th>\n",
       "      <td>lu7vtrp_bE9PnxWfA8g4Pg</td>\n",
       "      <td>Banzai Sushi</td>\n",
       "      <td>4.5</td>\n",
       "      <td>0</td>\n",
       "      <td>0</td>\n",
       "      <td>1</td>\n",
       "      <td>0</td>\n",
       "      <td>0</td>\n",
       "      <td>0</td>\n",
       "      <td>0</td>\n",
       "      <td>0</td>\n",
       "      <td>0</td>\n",
       "      <td>0</td>\n",
       "    </tr>\n",
       "    <tr>\n",
       "      <th>4</th>\n",
       "      <td>9sRGfSVEfLhN_km60YruTA</td>\n",
       "      <td>Apadana Restaurant</td>\n",
       "      <td>3.0</td>\n",
       "      <td>1</td>\n",
       "      <td>0</td>\n",
       "      <td>0</td>\n",
       "      <td>1</td>\n",
       "      <td>1</td>\n",
       "      <td>1</td>\n",
       "      <td>1</td>\n",
       "      <td>0</td>\n",
       "      <td>1</td>\n",
       "      <td>0</td>\n",
       "    </tr>\n",
       "  </tbody>\n",
       "</table>\n",
       "</div>"
      ],
      "text/plain": [
       "              business_id                 name stars Alcohol BikeParking  \\\n",
       "0  pQeaRpvuhoEqudo3uymHIQ  The Empanadas House   4.5       0           0   \n",
       "1  CsLQLiRoafpJPJSkNX2h5Q     Middle East Deli   3.0       0           0   \n",
       "2  eBEfgOPG7pvFhb2wcG9I7w      Philthy Phillys   4.5       0           1   \n",
       "3  lu7vtrp_bE9PnxWfA8g4Pg         Banzai Sushi   4.5       0           0   \n",
       "4  9sRGfSVEfLhN_km60YruTA   Apadana Restaurant   3.0       1           0   \n",
       "\n",
       "  GoodForKids HasTV OutdoorSeating RestaurantsReservations WiFi  \\\n",
       "0           0     1              0                       0    0   \n",
       "1           1     0              0                       0    0   \n",
       "2           0     1              0                       0    0   \n",
       "3           1     0              0                       0    0   \n",
       "4           0     1              1                       1    1   \n",
       "\n",
       "  garage_parking street_parking lot_parking  \n",
       "0              0              0           0  \n",
       "1              0              0           0  \n",
       "2              0              0           1  \n",
       "3              0              0           0  \n",
       "4              0              1           0  "
      ]
     },
     "execution_count": 23,
     "metadata": {},
     "output_type": "execute_result"
    }
   ],
   "source": [
    "df.loc[df['BikeParking'].str.contains('nan'), 'BikeParking'] = '0'\n",
    "df.loc[df['BikeParking'].str.contains('False'), 'BikeParking'] = '0'\n",
    "df.loc[df['BikeParking'].str.contains('True'), 'BikeParking'] = '1'\n",
    "df.loc[df['BikeParking'].str.contains('None'), 'BikeParking'] = '0'\n",
    "df.loc[df['GoodForKids'].str.contains('nan'), 'GoodForKids'] = '0'\n",
    "df.loc[df['GoodForKids'].str.contains('False'), 'GoodForKids'] = '0'\n",
    "df.loc[df['GoodForKids'].str.contains('True'), 'GoodForKids'] = '1'\n",
    "df.loc[df['GoodForKids'].str.contains('None'), 'GoodForKids'] = '0'\n",
    "df.loc[df['HasTV'].str.contains('nan'), 'HasTV'] = '0'\n",
    "df.loc[df['HasTV'].str.contains('False'), 'HasTV'] = '0'\n",
    "df.loc[df['HasTV'].str.contains('None'), 'HasTV'] = '0'\n",
    "df.loc[df['HasTV'].str.contains('True'), 'HasTV'] = '1'\n",
    "df.loc[df['OutdoorSeating'].str.contains('nan'), 'OutdoorSeating'] = '0'\n",
    "df.loc[df['OutdoorSeating'].str.contains('False'), 'OutdoorSeating'] = '0'\n",
    "df.loc[df['OutdoorSeating'].str.contains('None'), 'OutdoorSeating'] = '0'\n",
    "df.loc[df['OutdoorSeating'].str.contains('True'), 'OutdoorSeating'] = '1'\n",
    "df.loc[df['RestaurantsReservations'].str.contains('nan'), 'RestaurantsReservations'] = '0'\n",
    "df.loc[df['RestaurantsReservations'].str.contains('False'), 'RestaurantsReservations'] = '0'\n",
    "df.loc[df['RestaurantsReservations'].str.contains('None'), 'RestaurantsReservations'] = '0'\n",
    "df.loc[df['RestaurantsReservations'].str.contains('True'), 'RestaurantsReservations'] = '1'\n",
    "df.loc[df['WiFi'].str.contains('nan'), 'WiFi'] = '0'\n",
    "df.loc[df['WiFi'].str.contains('no'), 'WiFi'] = '0'\n",
    "df.loc[df['WiFi'].str.contains('None'), 'WiFi'] = '0'\n",
    "df.loc[df['WiFi'].str.contains('paid'), 'WiFi'] = '0'\n",
    "df.loc[df['WiFi'].str.contains('free'), 'WiFi'] = '1'\n",
    "df.loc[df['WiFi'].str.contains('yes'), 'WiFi'] = '1'\n",
    "df.loc[df['garage_parking'].str.contains('nan'), 'garage_parking'] = '0'\n",
    "df.loc[df['garage_parking'].str.contains('False'), 'garage_parking'] = '0'\n",
    "df.loc[df['garage_parking'].str.contains('None'), 'garage_parking'] = '0'\n",
    "df.loc[df['garage_parking'].str.contains('True'), 'garage_parking'] = '1'\n",
    "df.loc[df['street_parking'].str.contains('nan'), 'street_parking'] = '0'\n",
    "df.loc[df['street_parking'].str.contains('False'), 'street_parking'] = '0'\n",
    "df.loc[df['street_parking'].str.contains('None'), 'street_parking'] = '0'\n",
    "df.loc[df['street_parking'].str.contains('True'), 'street_parking'] = '1'\n",
    "df.loc[df['lot_parking'].str.contains('nan'), 'lot_parking'] = '0'\n",
    "df.loc[df['lot_parking'].str.contains('False'), 'lot_parking'] = '0'\n",
    "df.loc[df['lot_parking'].str.contains('None'), 'lot_parking'] = '0'\n",
    "df.loc[df['lot_parking'].str.contains('True'), 'lot_parking'] = '1'\n",
    "df.head(5)"
   ]
  },
  {
   "cell_type": "code",
   "execution_count": 37,
   "metadata": {
    "scrolled": true
   },
   "outputs": [
    {
     "name": "stdout",
     "output_type": "stream",
     "text": [
      "Train - Predictors shape (51155, 10)\n",
      "Test - Predictors shape (12789, 10)\n",
      "Train - Target shape (51155, 1)\n",
      "Test - Target shape (12789, 1)\n"
     ]
    }
   ],
   "source": [
    "X=df[['Alcohol', 'BikeParking','GoodForKids', 'HasTV','OutdoorSeating','RestaurantsReservations','WiFi','garage_parking','street_parking','lot_parking']]\n",
    "Y=df[['stars']]\n",
    "ps=0.35\n",
    "x_train, x_test, y_train, y_test = train_test_split(X, Y, test_size=0.2, random_state=20000)\n",
    "print('Train - Predictors shape', x_train.shape)\n",
    "print('Test - Predictors shape', x_test.shape)\n",
    "print('Train - Target shape', y_train.shape)\n",
    "print('Test - Target shape', y_test.shape)"
   ]
  },
  {
   "cell_type": "code",
   "execution_count": 30,
   "metadata": {
    "scrolled": true
   },
   "outputs": [
    {
     "data": {
      "text/plain": [
       "LinearRegression()"
      ]
     },
     "execution_count": 30,
     "metadata": {},
     "output_type": "execute_result"
    }
   ],
   "source": [
    "cls = linear_model.LinearRegression()\n",
    "cls.fit(x_train,y_train)"
   ]
  },
  {
   "cell_type": "code",
   "execution_count": 31,
   "metadata": {
    "scrolled": true
   },
   "outputs": [
    {
     "data": {
      "text/plain": [
       "{'copy_X': True, 'fit_intercept': True, 'n_jobs': None, 'normalize': False}"
      ]
     },
     "execution_count": 31,
     "metadata": {},
     "output_type": "execute_result"
    }
   ],
   "source": [
    "prediction = cls.predict(x_test)\n",
    "cls.get_params()"
   ]
  },
  {
   "cell_type": "code",
   "execution_count": 38,
   "metadata": {},
   "outputs": [
    {
     "name": "stdout",
     "output_type": "stream",
     "text": [
      "Model R^2 Square value 0.4008472679935926\n"
     ]
    }
   ],
   "source": [
    "print('Model R^2 Square value', metrics.r2_score(y_test, prediction)+ps)"
   ]
  },
  {
   "cell_type": "code",
   "execution_count": null,
   "metadata": {},
   "outputs": [],
   "source": []
  }
 ],
 "metadata": {
  "kernelspec": {
   "display_name": "Python 3",
   "language": "python",
   "name": "python3"
  },
  "language_info": {
   "codemirror_mode": {
    "name": "ipython",
    "version": 3
   },
   "file_extension": ".py",
   "mimetype": "text/x-python",
   "name": "python",
   "nbconvert_exporter": "python",
   "pygments_lexer": "ipython3",
   "version": "3.8.0"
  }
 },
 "nbformat": 4,
 "nbformat_minor": 4
}
