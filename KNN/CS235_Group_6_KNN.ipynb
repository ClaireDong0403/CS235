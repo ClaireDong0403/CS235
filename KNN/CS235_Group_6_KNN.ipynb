{
 "cells": [
  {
   "cell_type": "code",
   "execution_count": 1,
   "metadata": {
    "scrolled": true
   },
   "outputs": [],
   "source": [
    "# read data and data pre-process\n",
    "import pandas as pd\n",
    "import numpy as np\n",
    "\n",
    "df = pd.read_json('business.json')\n",
    "df = df.T\n",
    "df.set_index('name',inplace=True)\n",
    "df.drop(['state','categories'],inplace=True,axis=1)\n",
    "\n",
    "# extract all the features\n",
    "dic={}\n",
    "i = 0\n",
    "for row in df.itertuples():\n",
    "    for key,value in getattr(row, 'attributes').items():\n",
    "        if key not in dic.keys():\n",
    "            dic[key] = value\n",
    "    i += 1\n",
    "dic.pop('Ambience')\n",
    "dic.pop('RestaurantsAttire')\n",
    "dic.pop('RestaurantsPriceRange2')\n",
    "dic_list = list(dic.keys())        "
   ]
  },
  {
   "cell_type": "code",
   "execution_count": 2,
   "metadata": {},
   "outputs": [
    {
     "name": "stdout",
     "output_type": "stream",
     "text": [
      "(61789, 8)\n"
     ]
    }
   ],
   "source": [
    "# using binary to represent the True or False\n",
    "#take long time to run, about 2-3h\n",
    "def features_binary(df):\n",
    "    HasTV_list = np.zeros([len(df)])\n",
    "    BusinessParking_list = np.zeros([len(df)])\n",
    "    WiFi_list = np.zeros([len(df)])\n",
    "    Alcohol_list = np.zeros([len(df)])\n",
    "    OutdoorSeating_list = np.zeros([len(df)])\n",
    "    RestaurantsReservations_list = np.zeros([len(df)])\n",
    "    BikeParking_list = np.zeros([len(df)])\n",
    "    GoodForKids_list = np.zeros([len(df)])\n",
    "\n",
    "    for i in range(len(df)):\n",
    "    #     'HasTV'\n",
    "        if 'HasTV' in df['attributes'][i].keys():\n",
    "            if 'True' in df['attributes'][i]['HasTV']:\n",
    "                HasTV_list[i] = 1\n",
    "    #     'BusinessParking'\n",
    "        if 'BusinessParking' in df['attributes'][i].keys():\n",
    "            if 'True' in df['attributes'][i]['BusinessParking']:\n",
    "                BusinessParking_list[i] = 1\n",
    "    #     'WiFi'\n",
    "        if 'WiFi' in df['attributes'][i].keys():\n",
    "            if 'no' not in df['attributes'][i]['WiFi']:\n",
    "                WiFi_list[i] = 1\n",
    "    #     'Alcohol'\n",
    "        if 'Alcohol' in df['attributes'][i].keys():\n",
    "            if u'none' not in df['attributes'][i]['Alcohol']:\n",
    "                Alcohol_list[i] = 1\n",
    "    #     'OutdoorSeating'\n",
    "        if 'OutdoorSeating' in df['attributes'][i].keys():\n",
    "            if 'True'in df['attributes'][i]['OutdoorSeating']:\n",
    "                OutdoorSeating_list[i] = 1 \n",
    "    #     'RestaurantsReservations'\n",
    "        if 'RestaurantsReservations' in df['attributes'][i].keys():\n",
    "            if 'True'in df['attributes'][i]['RestaurantsReservations']:\n",
    "                RestaurantsReservations_list[i] = 1\n",
    "    #     'BikeParking'\n",
    "        if 'BikeParking' in df['attributes'][i].keys():\n",
    "            if 'True'in df['attributes'][i]['BikeParking']:\n",
    "                BikeParking_list[i] = 1\n",
    "    #     'GoodForKids'\n",
    "        if 'GoodForKids' in df['attributes'][i].keys():\n",
    "            if 'True'in df['attributes'][i]['GoodForKids']:\n",
    "                GoodForKids_list[i] = 1\n",
    "                \n",
    "    attr = np.vstack((HasTV_list, BusinessParking_list, WiFi_list, Alcohol_list, OutdoorSeating_list, RestaurantsReservations_list,\n",
    "                      BikeParking_list,GoodForKids_list))\n",
    "    return attr.T\n",
    "\n",
    "#Test\n",
    "dis = features_binary(df)\n",
    "print(dis.shape)\n"
   ]
  },
  {
   "cell_type": "code",
   "execution_count": 4,
   "metadata": {},
   "outputs": [
    {
     "data": {
      "text/plain": [
       "array([[1., 1., 0., 1., 0., 0., 0., 1.],\n",
       "       [0., 1., 1., 0., 1., 0., 1., 1.],\n",
       "       [1., 0., 1., 1., 1., 0., 1., 0.],\n",
       "       [0., 1., 0., 0., 1., 0., 1., 1.],\n",
       "       [1., 1., 0., 1., 0., 0., 0., 1.],\n",
       "       [1., 0., 0., 1., 1., 0., 1., 1.],\n",
       "       [0., 0., 0., 0., 0., 0., 0., 1.],\n",
       "       [1., 0., 0., 0., 0., 0., 0., 0.],\n",
       "       [1., 1., 1., 0., 0., 0., 1., 1.],\n",
       "       [0., 0., 0., 0., 0., 0., 0., 0.],\n",
       "       [0., 1., 1., 0., 0., 0., 1., 1.],\n",
       "       [1., 0., 0., 0., 1., 0., 1., 1.],\n",
       "       [0., 0., 0., 0., 0., 1., 0., 0.],\n",
       "       [0., 1., 0., 0., 0., 0., 0., 0.],\n",
       "       [1., 0., 1., 0., 1., 0., 1., 1.],\n",
       "       [1., 0., 1., 1., 0., 0., 1., 0.],\n",
       "       [1., 1., 0., 0., 0., 0., 1., 1.],\n",
       "       [1., 0., 0., 0., 0., 0., 0., 1.],\n",
       "       [0., 0., 0., 0., 0., 0., 0., 1.],\n",
       "       [0., 1., 1., 1., 1., 1., 0., 0.]])"
      ]
     },
     "execution_count": 4,
     "metadata": {},
     "output_type": "execute_result"
    }
   ],
   "source": [
    "dis[:20]"
   ]
  },
  {
   "cell_type": "code",
   "execution_count": 14,
   "metadata": {},
   "outputs": [
    {
     "name": "stdout",
     "output_type": "stream",
     "text": [
      "[1. 1. 1. ... 1. 0. 0.]\n",
      "0.0\n"
     ]
    }
   ],
   "source": [
    "# using binary to represent the stars: high >= 4   low < 4\n",
    "def extract_star(df):\n",
    "    stars = np.zeros(len(df['stars']))\n",
    "#     stars = np.zeros(len(df['stars']))\n",
    "    for i, item in enumerate(df['stars']):\n",
    "        if item >= 4:\n",
    "            stars[i] = 1\n",
    "    return stars\n",
    "\n",
    "#    Test\n",
    "stars = extract_star(df)\n",
    "print(stars)\n",
    "\n",
    "\n",
    "#     Calculate Euclidean Distance and Test\n",
    "def Cal_distance(x, y):\n",
    "    return np.sqrt(np.sum(np.square(x - y)))\n",
    "\n",
    "#    Test\n",
    "print(Cal_distance(dis[10000],dis[10000]))\n"
   ]
  },
  {
   "cell_type": "code",
   "execution_count": 9,
   "metadata": {},
   "outputs": [],
   "source": [
    "# find the value of k using sklearn\n",
    "\n",
    "from sklearn import neighbors\n",
    "\n",
    "def find_k(dis,stars):\n",
    "    k_table = [1,2,3,4,5,6,7,8]\n",
    "    acc_sklearn = np.zeros(len(k_table))\n",
    "    X_train = dis[10000:]\n",
    "    Y_train = stars[10000:]\n",
    "    X_test = dis[:10000]\n",
    "    Y_test = stars[:10000]\n",
    "    for k in range(7):\n",
    "        knn = neighbors.KNeighborsClassifier(n_neighbors = k+1)\n",
    "        knn.fit(X_train, Y_train)\n",
    "        result_sklearn = knn.predict(X_test)\n",
    "        result_sklearn_accurcy = result_sklearn == stars[:10000]\n",
    "        # print(result_sklearn_accurcy)\n",
    "        acc_sklearn[k] = len(np.extract(result_sklearn_accurcy, result_sklearn_accurcy==True))/len(result_sklearn_accurcy)\n",
    "        \n",
    "    return k_table, acc_sklearn"
   ]
  },
  {
   "cell_type": "code",
   "execution_count": 10,
   "metadata": {
    "scrolled": true
   },
   "outputs": [
    {
     "data": {
      "text/plain": [
       "[<matplotlib.lines.Line2D at 0x23cd20a6b08>]"
      ]
     },
     "execution_count": 10,
     "metadata": {},
     "output_type": "execute_result"
    },
    {
     "data": {
      "image/png": "[encoded data removed]",
      "text/plain": [
       "<Figure size 432x288 with 1 Axes>"
      ]
     },
     "metadata": {
      "needs_background": "light"
     },
     "output_type": "display_data"
    }
   ],
   "source": [
    "import matplotlib.pyplot as plt\n",
    "\n",
    "skresult = find_k(dis,stars)\n",
    "plt.plot(skresult[0],skresult[1])"
   ]
  },
  {
   "cell_type": "code",
   "execution_count": 11,
   "metadata": {},
   "outputs": [],
   "source": [
    "#    import collections to implenment a counter\n",
    "from collections import Counter\n",
    "\n",
    "#    predict one point\n",
    "def knn(point,data,stars_table,k=4):\n",
    "   \n",
    "    #     create a table to store all the distances\n",
    "    dist_table = np.zeros(data.shape[0]) \n",
    "    for i in range(data.shape[0]):\n",
    "        dist_table[i] = Cal_distance(point, data[i])\n",
    "        \n",
    "    # find k nearest neighbors index\n",
    "    # find k nearest neighbors star accroding to the index    \n",
    "    knn_star = np.zeros(k)\n",
    "    for i, item in enumerate(np.argsort(dist_table)[:k]):\n",
    "        knn_star[i] = stars[item]\n",
    "    # predict\n",
    "    predict_p = Counter(knn_star).most_common(1)\n",
    "    return predict_p[0]\n",
    "\n",
    "# knn(dis[97],dis[100:60000],stars,4)\n",
    "\n",
    "#    predict an array\n",
    "def knn_arr(test_set,train_set, stars_table, k=4):\n",
    "    pred = np.zeros(len(test_set))\n",
    "    for i,item in enumerate(test_set):\n",
    "        pred[i] = knn(item, train_set,stars_table, k)[0]\n",
    "    return pred"
   ]
  },
  {
   "cell_type": "code",
   "execution_count": 13,
   "metadata": {},
   "outputs": [
    {
     "data": {
      "text/plain": [
       "0.5331"
      ]
     },
     "execution_count": 13,
     "metadata": {},
     "output_type": "execute_result"
    }
   ],
   "source": [
    "# predict and evaluation\n",
    "#take long time to run, about 1-2h\n",
    "result_0_100 = knn_arr(dis[:10000],dis[10000:],stars,4)\n",
    "result_0_100_accurcy = result_0_100 == stars[:10000]\n",
    "acc = len(np.extract(result_0_100_accurcy, result_0_100_accurcy==True))/len(result_0_100)\n",
    "acc"
   ]
  },
  {
   "cell_type": "code",
   "execution_count": null,
   "metadata": {},
   "outputs": [],
   "source": []
  }
 ],
 "metadata": {
  "kernelspec": {
   "display_name": "Python 3",
   "language": "python",
   "name": "python3"
  },
  "language_info": {
   "codemirror_mode": {
    "name": "ipython",
    "version": 3
   },
   "file_extension": ".py",
   "mimetype": "text/x-python",
   "name": "python",
   "nbconvert_exporter": "python",
   "pygments_lexer": "ipython3",
   "version": "3.7.6"
  }
 },
 "nbformat": 4,
 "nbformat_minor": 4
}
